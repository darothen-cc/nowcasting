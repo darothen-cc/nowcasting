{
 "cells": [
  {
   "cell_type": "code",
   "execution_count": 1,
   "metadata": {
    "collapsed": true
   },
   "outputs": [],
   "source": [
    "%load_ext autoreload\n",
    "%autoreload 2"
   ]
  },
  {
   "cell_type": "code",
   "execution_count": 31,
   "metadata": {
    "collapsed": true
   },
   "outputs": [],
   "source": [
    "%matplotlib inline\n",
    "import matplotlib.pyplot as plt\n",
    "plt.style.use(['seaborn-talk', 'seaborn-ticks'])\n",
    "\n",
    "import numpy as np\n",
    "import xarray as xr\n",
    "\n",
    "from nowcast.nowcast import gaussian, multi_wave, hat"
   ]
  },
  {
   "cell_type": "markdown",
   "metadata": {},
   "source": [
    "# Advection Equation\n",
    "\n",
    "Given an initial tracer field and a constant background wind field, solve the two dimensional advection equation \n",
    "\n",
    "$$ \\frac{\\partial q}{\\partial t} + \\nabla\\cdot(q\\mathbf{u})= 0 $$\n",
    "\n",
    "where $q$ is some scalar field and $\\mathbf{u}$ is the velocity vector field, and $\\nabla\\cdot()$ is the divergence operator. For an incompressible flow such that\n",
    "\n",
    "$$\\nabla\\cdot\\mathbf{u} = 0$$\n",
    "\n",
    "then the entire system simplifies to\n",
    "\n",
    "$$ \\frac{\\partial q}{\\partial t} + \\mathbf{u}\\cdot\\nabla q = 0 $$\n",
    "\n",
    "Furthermore, for a steady flow,\n",
    "\n",
    "$$ \\mathbf{u}\\cdot\\nabla q = 0 $$\n",
    "\n",
    "which implies that $q$ is constant along a streamline, and that\n",
    "\n",
    "$$\\frac{\\partial q}{\\partial t} = 0$$\n",
    "\n",
    "In general, this is a \"hard\" problem to solve numerically, since it forms a hyperbolic PDE. Instead of implementing an advection solver ourselves, we will instead defer to [ClawPack](http://www.clawpack.org/), which implements a suite of finite-volume solvers which should be suitable for this task (reference [2D advection solver](http://www.clawpack.org/pyclaw/gallery/advection_2d.html))"
   ]
  },
  {
   "cell_type": "markdown",
   "metadata": {},
   "source": [
    "## `ClawPack` Testing"
   ]
  },
  {
   "cell_type": "code",
   "execution_count": 32,
   "metadata": {},
   "outputs": [
    {
     "ename": "ModuleNotFoundError",
     "evalue": "No module named 'clawpack'",
     "output_type": "error",
     "traceback": [
      "\u001b[0;31m---------------------------------------------------------------------------\u001b[0m",
      "\u001b[0;31mModuleNotFoundError\u001b[0m                       Traceback (most recent call last)",
      "\u001b[0;32m<ipython-input-32-495d5afcd042>\u001b[0m in \u001b[0;36m<module>\u001b[0;34m()\u001b[0m\n\u001b[0;32m----> 1\u001b[0;31m \u001b[0;32mfrom\u001b[0m \u001b[0mclawpack\u001b[0m \u001b[0;32mimport\u001b[0m \u001b[0mriemann\u001b[0m\u001b[0;34m\u001b[0m\u001b[0m\n\u001b[0m\u001b[1;32m      2\u001b[0m \u001b[0;32mfrom\u001b[0m \u001b[0mclawpack\u001b[0m \u001b[0;32mimport\u001b[0m \u001b[0mpyclaw\u001b[0m\u001b[0;34m\u001b[0m\u001b[0m\n\u001b[1;32m      3\u001b[0m \u001b[0;34m\u001b[0m\u001b[0m\n\u001b[1;32m      4\u001b[0m \u001b[0;31m# rp = riemann.advection_2D\u001b[0m\u001b[0;34m\u001b[0m\u001b[0;34m\u001b[0m\u001b[0m\n\u001b[1;32m      5\u001b[0m \u001b[0mrp\u001b[0m \u001b[0;34m=\u001b[0m \u001b[0mriemann\u001b[0m\u001b[0;34m.\u001b[0m\u001b[0mvc_advection_2D\u001b[0m\u001b[0;34m\u001b[0m\u001b[0m\n",
      "\u001b[0;31mModuleNotFoundError\u001b[0m: No module named 'clawpack'"
     ]
    }
   ],
   "source": [
    "from clawpack import riemann\n",
    "from clawpack import pyclaw\n",
    "\n",
    "# rp = riemann.advection_2D\n",
    "rp = riemann.vc_advection_2D\n",
    "solver = pyclaw.SharpClawSolver2D(rp)\n",
    "# solver = pyclaw.ClawSolver2D(rp)\n",
    "# solver.limiters = pyclaw.limiters.tvd.vanleer\n",
    "solver.bc_lower[0] = pyclaw.BC.extrap\n",
    "solver.bc_upper[0] = pyclaw.BC.extrap\n",
    "solver.bc_lower[1] = pyclaw.BC.extrap\n",
    "solver.bc_upper[1] = pyclaw.BC.extrap\n",
    "\n",
    "solver.aux_bc_lower[0] = pyclaw.BC.extrap\n",
    "solver.aux_bc_upper[0] = pyclaw.BC.extrap\n",
    "solver.aux_bc_lower[1] = pyclaw.BC.extrap\n",
    "solver.aux_bc_upper[1] = pyclaw.BC.extrap\n",
    "\n",
    "# Register domain\n",
    "dx, dy = 500., 500.\n",
    "nx, ny = 200, 50\n",
    "x = pyclaw.Dimension(0, dx*nx, nx, name='x')\n",
    "y = pyclaw.Dimension(0, dy*ny, ny, name='y')\n",
    "domain = pyclaw.Domain([x, y])\n",
    "\n",
    "x1d = domain.grid.x.centers\n",
    "y1d = domain.grid.y.centers\n",
    "xx = domain.grid.c_centers[0]\n",
    "yy = domain.grid.c_centers[1]\n",
    "\n",
    "num_eqn = 1\n",
    "state = pyclaw.State(domain, num_eqn, num_aux=2)\n",
    "\n",
    "# For non-vc\n",
    "# state.problem_data['u'] = 10. # m/s\n",
    "# state.problem_data['v'] = 1. # m/s\n",
    "\n",
    "# For variable-coefficient\n",
    "u = 20.*np.ones_like(yy)  # m/s\n",
    "# u = 4.*multi_wave(xx, yy)\n",
    "# v = 0.*np.ones_like(yy)  # m/s\n",
    "v = -8.*np.cos(2.*np.pi*(1./(xx.max()/2.))*xx)\n",
    "state.aux[0,...] = u\n",
    "state.aux[1,...] = v\n",
    "\n",
    "# q = gaussian(xx, yy, A=50., x0=10.*1000, y0=12.5*1000, sigmax=5.*1000., sigmay=7*1000)\n",
    "# q[q < 20] = 0.0\n",
    "\n",
    "q = hat(xx, yy, 50., [2500, 7500], [7500, 15000])\n",
    "\n",
    "state.q[0,...] = q\n",
    "plt.pcolormesh(xx, yy, q, vmin=0, vmax=50)\n",
    "plt.quiver(xx[10::20,2::5], yy[10::20,2::5], u[10::20,2::5], v[10::20,2::5], \n",
    "           units='xy', angles='xy', scale_units='xy', pivot='middle')"
   ]
  },
  {
   "cell_type": "code",
   "execution_count": 164,
   "metadata": {
    "collapsed": true
   },
   "outputs": [],
   "source": [
    "claw = pyclaw.Controller()\n",
    "claw.tfinal = 3600.\n",
    "claw.solution = pyclaw.Solution(state, domain)\n",
    "claw.solver = solver\n",
    "claw.keep_copy = True\n",
    "\n",
    "t_out = np.arange(0, 3601, 5*60)\n",
    "claw.out_times = t_out\n",
    "claw.num_output_times = len(t_out) - 1"
   ]
  },
  {
   "cell_type": "code",
   "execution_count": 165,
   "metadata": {},
   "outputs": [
    {
     "name": "stdout",
     "output_type": "stream",
     "text": [
      "2017-11-01 21:08:20,107 INFO CLAW: Solution 0 computed for time t=0.000000\n",
      "2017-11-01 21:08:21,710 INFO CLAW: Solution 1 computed for time t=300.000000\n",
      "2017-11-01 21:08:23,090 INFO CLAW: Solution 2 computed for time t=600.000000\n",
      "2017-11-01 21:08:24,473 INFO CLAW: Solution 3 computed for time t=900.000000\n",
      "2017-11-01 21:08:25,848 INFO CLAW: Solution 4 computed for time t=1200.000000\n",
      "2017-11-01 21:08:27,228 INFO CLAW: Solution 5 computed for time t=1500.000000\n",
      "2017-11-01 21:08:27,482 INFO CLAW: Solution 6 computed for time t=1800.000000\n",
      "2017-11-01 21:08:27,959 INFO CLAW: Solution 7 computed for time t=2100.000000\n",
      "2017-11-01 21:08:28,233 INFO CLAW: Solution 8 computed for time t=2400.000000\n",
      "2017-11-01 21:08:28,764 INFO CLAW: Solution 9 computed for time t=2700.000000\n",
      "2017-11-01 21:08:29,365 INFO CLAW: Solution 10 computed for time t=3000.000000\n",
      "2017-11-01 21:08:29,898 INFO CLAW: Solution 11 computed for time t=3300.000000\n",
      "2017-11-01 21:08:30,573 INFO CLAW: Solution 12 computed for time t=3600.000000\n"
     ]
    },
    {
     "data": {
      "text/plain": [
       "{'cflmax': 2.4500000000000006,\n",
       " 'dtmax': 61.250000000000014,\n",
       " 'dtmin': 61.249999999999993,\n",
       " 'numsteps': 61}"
      ]
     },
     "execution_count": 165,
     "metadata": {},
     "output_type": "execute_result"
    }
   ],
   "source": [
    "claw.run()"
   ]
  },
  {
   "cell_type": "code",
   "execution_count": 166,
   "metadata": {},
   "outputs": [
    {
     "data": {
      "text/plain": [
       "<matplotlib.quiver.Quiver at 0x12b50b6d8>"
      ]
     },
     "execution_count": 166,
     "metadata": {},
     "output_type": "execute_result"
    },
    {
     "data": {
      "image/png": "[encoded data removed]",
      "text/plain": [
       "<matplotlib.figure.Figure at 0x12b1b3780>"
      ]
     },
     "metadata": {},
     "output_type": "display_data"
    }
   ],
   "source": [
    "frames = claw.frames\n",
    "plt.pcolormesh(xx, yy, frames[-1].q[0], vmin=0, vmax=50)\n",
    "plt.quiver(xx[10::20,2::5], yy[10::20,2::5], u[10::20,2::5], v[10::20,2::5], \n",
    "           units='xy', angles='xy', scale_units='xy', pivot='middle')"
   ]
  },
  {
   "cell_type": "code",
   "execution_count": 7,
   "metadata": {},
   "outputs": [
    {
     "ename": "NameError",
     "evalue": "name 'claw' is not defined",
     "output_type": "error",
     "traceback": [
      "\u001b[0;31m---------------------------------------------------------------------------\u001b[0m",
      "\u001b[0;31mNameError\u001b[0m                                 Traceback (most recent call last)",
      "\u001b[0;32m<ipython-input-7-598c308c65b1>\u001b[0m in \u001b[0;36m<module>\u001b[0;34m()\u001b[0m\n\u001b[0;32m----> 1\u001b[0;31m \u001b[0mtimes\u001b[0m \u001b[0;34m=\u001b[0m \u001b[0mclaw\u001b[0m\u001b[0;34m.\u001b[0m\u001b[0mout_times\u001b[0m\u001b[0;34m\u001b[0m\u001b[0m\n\u001b[0m\u001b[1;32m      2\u001b[0m \u001b[0mtracers\u001b[0m \u001b[0;34m=\u001b[0m \u001b[0;34m[\u001b[0m\u001b[0mf\u001b[0m\u001b[0;34m.\u001b[0m\u001b[0mq\u001b[0m\u001b[0;34m.\u001b[0m\u001b[0msqueeze\u001b[0m\u001b[0;34m(\u001b[0m\u001b[0;34m)\u001b[0m \u001b[0;32mfor\u001b[0m \u001b[0mf\u001b[0m \u001b[0;32min\u001b[0m \u001b[0mclaw\u001b[0m\u001b[0;34m.\u001b[0m\u001b[0mframes\u001b[0m\u001b[0;34m]\u001b[0m\u001b[0;34m\u001b[0m\u001b[0m\n\u001b[1;32m      3\u001b[0m \u001b[0mtracers\u001b[0m \u001b[0;34m=\u001b[0m \u001b[0mnp\u001b[0m\u001b[0;34m.\u001b[0m\u001b[0masarray\u001b[0m\u001b[0;34m(\u001b[0m\u001b[0mtracers\u001b[0m\u001b[0;34m)\u001b[0m\u001b[0;34m\u001b[0m\u001b[0m\n\u001b[1;32m      4\u001b[0m \u001b[0;34m\u001b[0m\u001b[0m\n\u001b[1;32m      5\u001b[0m ds = xr.Dataset(\n",
      "\u001b[0;31mNameError\u001b[0m: name 'claw' is not defined"
     ]
    }
   ],
   "source": [
    "times = claw.out_times\n",
    "tracers = [f.q.squeeze() for f in claw.frames]\n",
    "tracers = np.asarray(tracers)\n",
    "\n",
    "ds = xr.Dataset(\n",
    "    {'q': (('time', 'x', 'y'), tracers),\n",
    "     'u': (('x', 'y'), u),\n",
    "     'v': (('x', 'y'), v)},\n",
    "    {'time': times, 'x': x1d, 'y': y1d},\n",
    ")\n",
    "ds['time'].attrs.update({'long_name': 'time', 'units': 'seconds since 2000-01-01 0:0:0'})\n",
    "ds['x'].attrs.update({'long_name': 'x-coordinate', 'units': 'm'})\n",
    "ds['y'].attrs.update({'long_name': 'y-coordinate', 'units': 'm'})\n",
    "ds['u'].attrs.update({'long_name': 'zonal wind', 'units': 'm/s'})\n",
    "ds['v'].attrs.update({'long_name': 'meridional wind', 'units': 'm/s'})\n",
    "ds.attrs.update({\n",
    "    'Conventions': 'CF-1.7'\n",
    "})\n",
    "\n",
    "ds.to_netcdf(\"test_cases/test_advection.nc\")"
   ]
  },
  {
   "cell_type": "markdown",
   "metadata": {},
   "source": [
    "Note that in 1D with constant winds, the advection problem is dramatically simplified and analytically tractable, although we can always use numerical methods for simplicity:\n",
    "\n",
    "$$\\frac{\\partial q}{\\partial t} + u(x,t)\\frac{\\partial q}{\\partial x} = 0$$\n",
    "\n",
    "A simple test function $q(x, t)$ for which we can analytically solve this equation is the following time-shifting gaussian curve:\n",
    "\n",
    "$$ q(x, t) = \\exp\\left( -\\frac{(x - x_0) - ut}{L^2} \\right) $$\n",
    "\n",
    "where we've assumed a constant (in time and space) $u$."
   ]
  },
  {
   "cell_type": "code",
   "execution_count": 3,
   "metadata": {},
   "outputs": [
    {
     "data": {
      "image/png": "[encoded data removed]",
      "text/plain": [
       "<matplotlib.figure.Figure at 0x110be6198>"
      ]
     },
     "metadata": {},
     "output_type": "display_data"
    }
   ],
   "source": [
    "from functools import partial\n",
    "from nowcast import gauss_1d, hat_1d\n",
    "\n",
    "_g = partial(gauss_1d, x0=0.15, L=0.025, u=0.2, A=1)\n",
    "_h = partial(hat_1d, x0=0.15, dx=0.05, u=0.2, A=1)\n",
    "\n",
    "xs = np.linspace(0, 1, 500)\n",
    "for i in range(5):\n",
    "    ys = _h(xs, i)\n",
    "    plt.plot(xs, ys, label=i)"
   ]
  },
  {
   "cell_type": "markdown",
   "metadata": {},
   "source": [
    "Solve these same simulations using `ClawPack`"
   ]
  },
  {
   "cell_type": "code",
   "execution_count": 25,
   "metadata": {
    "collapsed": true
   },
   "outputs": [],
   "source": [
    "from functools import partial\n",
    "\n",
    "from clawpack import riemann\n",
    "from clawpack import pyclaw\n",
    "\n",
    "import numpy as np\n",
    "import xarray as xr\n",
    "\n",
    "sharp = False\n",
    "nx = 200\n",
    "dx = 500\n",
    "\n",
    "u = 10.\n",
    "# qfunc = partial(gauss_1d, x0=15*1000, L=4*1000, u=u, A=1.)\n",
    "qfunc = partial(hat_1d, x0=15*1000, dx=4*1000, u=u, A=1.)\n",
    "\n",
    "rp = riemann.advection_1D\n",
    "if sharp:\n",
    "    solver = pyclaw.SharpClawSolver1D(rp)\n",
    "    solver.weno_order = 5\n",
    "else:\n",
    "    solver = pyclaw.ClawSolver1D(rp)\n",
    "    \n",
    "solver.bc_lower[0] = pyclaw.BC.periodic\n",
    "solver.bc_upper[0] = pyclaw.BC.periodic\n",
    "\n",
    "x = pyclaw.Dimension(0, dx*nx, nx, name='x')\n",
    "domain = pyclaw.Domain(x)\n",
    "\n",
    "state = pyclaw.State(domain, solver.num_eqn)\n",
    "state.problem_data['u'] = u\n",
    "\n",
    "x1d = domain.grid.x.centers\n",
    "q = qfunc(x1d, t=0)\n",
    "\n",
    "state.q[0, ...] = q"
   ]
  },
  {
   "cell_type": "code",
   "execution_count": 26,
   "metadata": {
    "collapsed": true
   },
   "outputs": [],
   "source": [
    "claw = pyclaw.Controller()\n",
    "claw.keep_copy = True\n",
    "claw.solution = pyclaw.Solution(state, domain)\n",
    "claw.solver = solver\n",
    "\n",
    "t_out=np.arange(0, 3601, 5*60)\n",
    "claw.tfinal = t_out[-1]\n",
    "claw.out_times = t_out\n",
    "claw.num_output_times = len(t_out) - 1"
   ]
  },
  {
   "cell_type": "code",
   "execution_count": 27,
   "metadata": {},
   "outputs": [
    {
     "name": "stdout",
     "output_type": "stream",
     "text": [
      "2017-11-02 10:48:28,061 INFO CLAW: Solution 0 computed for time t=0.000000\n",
      "2017-11-02 10:48:28,067 INFO CLAW: Solution 1 computed for time t=300.000000\n",
      "2017-11-02 10:48:28,076 INFO CLAW: Solution 2 computed for time t=600.000000\n",
      "2017-11-02 10:48:28,084 INFO CLAW: Solution 3 computed for time t=900.000000\n",
      "2017-11-02 10:48:28,093 INFO CLAW: Solution 4 computed for time t=1200.000000\n",
      "2017-11-02 10:48:28,101 INFO CLAW: Solution 5 computed for time t=1500.000000\n",
      "2017-11-02 10:48:28,110 INFO CLAW: Solution 6 computed for time t=1800.000000\n",
      "2017-11-02 10:48:28,118 INFO CLAW: Solution 7 computed for time t=2100.000000\n",
      "2017-11-02 10:48:28,130 INFO CLAW: Solution 8 computed for time t=2400.000000\n",
      "2017-11-02 10:48:28,138 INFO CLAW: Solution 9 computed for time t=2700.000000\n",
      "2017-11-02 10:48:28,146 INFO CLAW: Solution 10 computed for time t=3000.000000\n",
      "2017-11-02 10:48:28,156 INFO CLAW: Solution 11 computed for time t=3300.000000\n",
      "2017-11-02 10:48:28,164 INFO CLAW: Solution 12 computed for time t=3600.000000\n"
     ]
    }
   ],
   "source": [
    "claw.run()\n",
    "\n",
    "times = claw.out_times\n",
    "tracers = [f.q.squeeze() for f in claw.frames]\n",
    "tracers = np.asarray(tracers)"
   ]
  },
  {
   "cell_type": "code",
   "execution_count": 28,
   "metadata": {
    "collapsed": true
   },
   "outputs": [],
   "source": [
    "uarr = u*np.ones_like(x1d)\n",
    "\n",
    "ds = xr.Dataset(\n",
    "    {'q': (('time', 'x'), tracers),\n",
    "     'u': (('x', ), uarr)},\n",
    "    {'time': times, 'x': x1d}\n",
    ")\n",
    "ds['time'].attrs.update({'long_name': 'time', 'units': 'seconds since 2000-01-01 0:0:0'})\n",
    "ds['x'].attrs.update({'long_name': 'x-coordinate', 'units': 'm'})\n",
    "ds['u'].attrs.update({'long_name': 'zonal wind', 'units': 'm/s'})\n",
    "ds.attrs.update({\n",
    "    'Conventions': 'CF-1.7'\n",
    "})"
   ]
  },
  {
   "cell_type": "code",
   "execution_count": 30,
   "metadata": {},
   "outputs": [
    {
     "data": {
      "text/plain": [
       "[<matplotlib.lines.Line2D at 0x1231e1d68>]"
      ]
     },
     "execution_count": 30,
     "metadata": {},
     "output_type": "execute_result"
    },
    {
     "data": {
      "image/png": "[encoded data removed]",
      "text/plain": [
       "<matplotlib.figure.Figure at 0x123c7f3c8>"
      ]
     },
     "metadata": {},
     "output_type": "display_data"
    }
   ],
   "source": [
    "it = 10\n",
    "t = float(ds.time.isel(time=it))\n",
    "qref = qfunc(ds.x, t)\n",
    "\n",
    "\n",
    "plt.plot(ds.x, qref, lw=4, color='k')\n",
    "ds.q.isel(time=it).plot(lw=0.5, color='r', marker='o')"
   ]
  },
  {
   "cell_type": "markdown",
   "metadata": {},
   "source": [
    "## 1D Cases"
   ]
  },
  {
   "cell_type": "code",
   "execution_count": 20,
   "metadata": {},
   "outputs": [
    {
     "name": "stdout",
     "output_type": "stream",
     "text": [
      "2017-11-02 17:55:33,070 INFO CLAW: Solution 0 computed for time t=0.000000\n",
      "2017-11-02 17:55:33,079 INFO CLAW: Solution 1 computed for time t=300.000000\n",
      "2017-11-02 17:55:33,087 INFO CLAW: Solution 2 computed for time t=600.000000\n",
      "2017-11-02 17:55:33,096 INFO CLAW: Solution 3 computed for time t=900.000000\n",
      "2017-11-02 17:55:33,111 INFO CLAW: Solution 4 computed for time t=1200.000000\n",
      "2017-11-02 17:55:33,121 INFO CLAW: Solution 5 computed for time t=1500.000000\n",
      "2017-11-02 17:55:33,134 INFO CLAW: Solution 6 computed for time t=1800.000000\n",
      "2017-11-02 17:55:33,147 INFO CLAW: Solution 7 computed for time t=2100.000000\n",
      "2017-11-02 17:55:33,157 INFO CLAW: Solution 8 computed for time t=2400.000000\n",
      "2017-11-02 17:55:33,171 INFO CLAW: Solution 9 computed for time t=2700.000000\n",
      "2017-11-02 17:55:33,181 INFO CLAW: Solution 10 computed for time t=3000.000000\n",
      "2017-11-02 17:55:33,191 INFO CLAW: Solution 11 computed for time t=3300.000000\n",
      "2017-11-02 17:55:33,205 INFO CLAW: Solution 12 computed for time t=3600.000000\n",
      "2017-11-02 17:55:33,249 INFO CLAW: Solution 0 computed for time t=0.000000\n",
      "2017-11-02 17:55:33,260 INFO CLAW: Solution 1 computed for time t=300.000000\n",
      "2017-11-02 17:55:33,272 INFO CLAW: Solution 2 computed for time t=600.000000\n",
      "2017-11-02 17:55:33,288 INFO CLAW: Solution 3 computed for time t=900.000000\n",
      "2017-11-02 17:55:33,302 INFO CLAW: Solution 4 computed for time t=1200.000000\n",
      "2017-11-02 17:55:33,313 INFO CLAW: Solution 5 computed for time t=1500.000000\n",
      "2017-11-02 17:55:33,326 INFO CLAW: Solution 6 computed for time t=1800.000000\n",
      "2017-11-02 17:55:33,337 INFO CLAW: Solution 7 computed for time t=2100.000000\n",
      "2017-11-02 17:55:33,347 INFO CLAW: Solution 8 computed for time t=2400.000000\n",
      "2017-11-02 17:55:33,358 INFO CLAW: Solution 9 computed for time t=2700.000000\n",
      "2017-11-02 17:55:33,368 INFO CLAW: Solution 10 computed for time t=3000.000000\n",
      "2017-11-02 17:55:33,381 INFO CLAW: Solution 11 computed for time t=3300.000000\n",
      "2017-11-02 17:55:33,392 INFO CLAW: Solution 12 computed for time t=3600.000000\n",
      "2017-11-02 17:55:33,405 INFO CLAW: Solution 13 computed for time t=3900.000000\n",
      "2017-11-02 17:55:33,418 INFO CLAW: Solution 14 computed for time t=4200.000000\n",
      "2017-11-02 17:55:33,430 INFO CLAW: Solution 15 computed for time t=4500.000000\n",
      "2017-11-02 17:55:33,440 INFO CLAW: Solution 16 computed for time t=4800.000000\n",
      "2017-11-02 17:55:33,451 INFO CLAW: Solution 17 computed for time t=5100.000000\n",
      "2017-11-02 17:55:33,462 INFO CLAW: Solution 18 computed for time t=5400.000000\n",
      "2017-11-02 17:55:33,474 INFO CLAW: Solution 19 computed for time t=5700.000000\n",
      "2017-11-02 17:55:33,487 INFO CLAW: Solution 20 computed for time t=6000.000000\n",
      "2017-11-02 17:55:33,499 INFO CLAW: Solution 21 computed for time t=6300.000000\n",
      "2017-11-02 17:55:33,510 INFO CLAW: Solution 22 computed for time t=6600.000000\n",
      "2017-11-02 17:55:33,524 INFO CLAW: Solution 23 computed for time t=6900.000000\n",
      "2017-11-02 17:55:33,534 INFO CLAW: Solution 24 computed for time t=7200.000000\n",
      "2017-11-02 17:55:33,595 INFO CLAW: Solution 0 computed for time t=0.000000\n",
      "2017-11-02 17:55:33,606 INFO CLAW: Solution 1 computed for time t=300.000000\n",
      "2017-11-02 17:55:33,617 INFO CLAW: Solution 2 computed for time t=600.000000\n",
      "2017-11-02 17:55:33,629 INFO CLAW: Solution 3 computed for time t=900.000000\n",
      "2017-11-02 17:55:33,639 INFO CLAW: Solution 4 computed for time t=1200.000000\n",
      "2017-11-02 17:55:33,651 INFO CLAW: Solution 5 computed for time t=1500.000000\n",
      "2017-11-02 17:55:33,660 INFO CLAW: Solution 6 computed for time t=1800.000000\n",
      "2017-11-02 17:55:33,670 INFO CLAW: Solution 7 computed for time t=2100.000000\n",
      "2017-11-02 17:55:33,680 INFO CLAW: Solution 8 computed for time t=2400.000000\n",
      "2017-11-02 17:55:33,692 INFO CLAW: Solution 9 computed for time t=2700.000000\n",
      "2017-11-02 17:55:33,702 INFO CLAW: Solution 10 computed for time t=3000.000000\n",
      "2017-11-02 17:55:33,712 INFO CLAW: Solution 11 computed for time t=3300.000000\n",
      "2017-11-02 17:55:33,725 INFO CLAW: Solution 12 computed for time t=3600.000000\n",
      "2017-11-02 17:55:35,153 INFO CLAW: Solution 0 computed for time t=0.000000\n",
      "2017-11-02 17:55:35,164 INFO CLAW: Solution 1 computed for time t=300.000000\n",
      "2017-11-02 17:55:35,174 INFO CLAW: Solution 2 computed for time t=600.000000\n",
      "2017-11-02 17:55:35,186 INFO CLAW: Solution 3 computed for time t=900.000000\n",
      "2017-11-02 17:55:35,198 INFO CLAW: Solution 4 computed for time t=1200.000000\n",
      "2017-11-02 17:55:35,207 INFO CLAW: Solution 5 computed for time t=1500.000000\n",
      "2017-11-02 17:55:35,216 INFO CLAW: Solution 6 computed for time t=1800.000000\n",
      "2017-11-02 17:55:35,227 INFO CLAW: Solution 7 computed for time t=2100.000000\n",
      "2017-11-02 17:55:35,236 INFO CLAW: Solution 8 computed for time t=2400.000000\n",
      "2017-11-02 17:55:35,246 INFO CLAW: Solution 9 computed for time t=2700.000000\n",
      "2017-11-02 17:55:35,260 INFO CLAW: Solution 10 computed for time t=3000.000000\n",
      "2017-11-02 17:55:35,272 INFO CLAW: Solution 11 computed for time t=3300.000000\n",
      "2017-11-02 17:55:35,283 INFO CLAW: Solution 12 computed for time t=3600.000000\n",
      "2017-11-02 17:55:35,292 INFO CLAW: Solution 13 computed for time t=3900.000000\n",
      "2017-11-02 17:55:35,302 INFO CLAW: Solution 14 computed for time t=4200.000000\n",
      "2017-11-02 17:55:35,311 INFO CLAW: Solution 15 computed for time t=4500.000000\n",
      "2017-11-02 17:55:35,323 INFO CLAW: Solution 16 computed for time t=4800.000000\n",
      "2017-11-02 17:55:35,332 INFO CLAW: Solution 17 computed for time t=5100.000000\n",
      "2017-11-02 17:55:35,341 INFO CLAW: Solution 18 computed for time t=5400.000000\n",
      "2017-11-02 17:55:35,352 INFO CLAW: Solution 19 computed for time t=5700.000000\n",
      "2017-11-02 17:55:35,363 INFO CLAW: Solution 20 computed for time t=6000.000000\n",
      "2017-11-02 17:55:35,372 INFO CLAW: Solution 21 computed for time t=6300.000000\n",
      "2017-11-02 17:55:35,382 INFO CLAW: Solution 22 computed for time t=6600.000000\n",
      "2017-11-02 17:55:35,393 INFO CLAW: Solution 23 computed for time t=6900.000000\n",
      "2017-11-02 17:55:35,402 INFO CLAW: Solution 24 computed for time t=7200.000000\n"
     ]
    }
   ],
   "source": [
    "from nowcast.advection import advect_1d\n",
    "from nowcast import hat_1d, gauss_1d\n",
    "\n",
    "import numpy as np\n",
    "\n",
    "nx = 400\n",
    "dx = 500.\n",
    "\n",
    "u = 10.\n",
    "qfunc = partial(hat_1d, x0=15*1000, dx=4*1000, u=u, A=1.)\n",
    "\n",
    "ds = advect_1d(10., qfunc, dict(t=0, x0=15*1000, dx=4*1000, u=u, A=1.),\n",
    "               nx=nx, dx=dx, t_out=np.arange(0, 3601, 5*60), sharp=True)\n",
    "ds['q_analytic'] = (('time', 'x'), np.asarray([qfunc(ds.x, float(t)) for t in ds.time]))\n",
    "ds.to_netcdf(\"test_cases/hat_1d.nc\")\n",
    "\n",
    "ds = advect_1d(10., qfunc, dict(t=0, x0=15*1000, dx=4*1000, u=u, A=1.),\n",
    "               nx=nx, dx=dx, t_out=np.arange(0, 7201, 5*60), sharp=True)\n",
    "ds['q_analytic'] = (('time', 'x'), np.asarray([qfunc(ds.x, float(t)) for t in ds.time]))\n",
    "ds.to_netcdf(\"test_cases/hat_1d.long.nc\")\n",
    "\n",
    "###\n",
    "\n",
    "u = 10.\n",
    "qfunc = partial(gauss_1d, x0=15*1000, L=4*1000, u=u, A=1.)\n",
    "\n",
    "ds = advect_1d(10., qfunc, dict(t=0, x0=15*1000, L=4*1000, u=u, A=1.),\n",
    "               nx=nx, dx=dx, t_out=np.arange(0, 3601, 5*60), sharp=True)\n",
    "ds['q_analytic'] = (('time', 'x'), np.asarray([qfunc(ds.x, float(t)) for t in ds.time]))\n",
    "ds.to_netcdf(\"test_cases/gauss_1d.nc\")\n",
    "\n",
    "ds = advect_1d(10., qfunc, dict(t=0, x0=15*1000, L=4*1000, u=u, A=1.),\n",
    "               nx=nx, dx=dx, t_out=np.arange(0, 7201, 5*60), sharp=True)\n",
    "ds['q_analytic'] = (('time', 'x'), np.asarray([qfunc(ds.x, float(t)) for t in ds.time]))\n",
    "ds.to_netcdf(\"test_cases/gauss_1d.long.nc\")"
   ]
  },
  {
   "cell_type": "markdown",
   "metadata": {},
   "source": [
    "## 1D - Additional"
   ]
  },
  {
   "cell_type": "code",
   "execution_count": null,
   "metadata": {
    "collapsed": true
   },
   "outputs": [],
   "source": [
    "u = 10.\n",
    "qfunc = partial(gauss_1d, x0=15*1000, L=4*1000, u=u, A=1.)\n",
    "# ds = xr.open_dataset(\"test_cases/gauss_1d.long.nc\").copy()\n",
    "# ds['q'] = (('time', 'x'), np.asarray([qfunc(ds.x, float(t)) for t in ds.time]))\n",
    "# ds.to_netcdf(\"test_cases/gauss_1d.analytical.long.nc\")"
   ]
  },
  {
   "cell_type": "code",
   "execution_count": 21,
   "metadata": {
    "collapsed": true
   },
   "outputs": [],
   "source": [
    "# u = 10.\n",
    "# qfunc = partial(hat_1d, x0=15*1000, dx=4*1000, u=u, A=1.)\n",
    "# ds = xr.open_dataset(\"test_cases/hat_1d.nc\").copy()\n",
    "# ds['q'] = (('time', 'x'), np.asarray([qfunc(ds.x, float(t)) for t in ds.time]))\n",
    "# ds.to_netcdf(\"test_cases/hat_1d.analytical.nc\")\n",
    "\n",
    "# ds = xr.open_dataset(\"test_cases/hat_1d.long.nc\").copy()\n",
    "# ds['q'] = (('time', 'x'), np.asarray([qfunc(ds.x, float(t)) for t in ds.time]))\n",
    "# ds.to_netcdf(\"test_cases/hat_1d.analytical.long.nc\")\n",
    "\n",
    "\n",
    "u = 10.\n",
    "qfunc = partial(gauss_1d, x0=15*1000, L=4*1000, u=u, A=1.)\n",
    "ds = xr.open_dataset(\"test_cases/gauss_1d.nc\").copy()\n",
    "ds['q'] = (('time', 'x'), np.asarray([qfunc(ds.x, float(t)) for t in ds.time]))\n",
    "ds.to_netcdf(\"test_cases/gauss_1d.analytical.nc\")\n",
    "\n",
    "# ds = xr.open_dataset(\"test_cases/gauss_1d.long.nc\").copy()\n",
    "# ds['q'] = (('time', 'x'), np.asarray([qfunc(ds.x, float(t)) for t in ds.time]))\n",
    "# ds.to_netcdf(\"test_cases/gauss_1d.analytical.long.nc\")\n"
   ]
  },
  {
   "cell_type": "markdown",
   "metadata": {},
   "source": [
    "## 2D Cases"
   ]
  },
  {
   "cell_type": "code",
   "execution_count": 12,
   "metadata": {},
   "outputs": [
    {
     "name": "stdout",
     "output_type": "stream",
     "text": [
      "2017-11-01 21:50:36,445 INFO CLAW: Solution 0 computed for time t=0.000000\n",
      "2017-11-01 21:50:36,474 INFO CLAW: Solution 1 computed for time t=300.000000\n",
      "2017-11-01 21:50:36,503 INFO CLAW: Solution 2 computed for time t=600.000000\n",
      "2017-11-01 21:50:36,533 INFO CLAW: Solution 3 computed for time t=900.000000\n",
      "2017-11-01 21:50:36,563 INFO CLAW: Solution 4 computed for time t=1200.000000\n",
      "2017-11-01 21:50:36,592 INFO CLAW: Solution 5 computed for time t=1500.000000\n",
      "2017-11-01 21:50:36,629 INFO CLAW: Solution 6 computed for time t=1800.000000\n",
      "2017-11-01 21:50:36,666 INFO CLAW: Solution 7 computed for time t=2100.000000\n",
      "2017-11-01 21:50:36,702 INFO CLAW: Solution 8 computed for time t=2400.000000\n",
      "2017-11-01 21:50:36,738 INFO CLAW: Solution 9 computed for time t=2700.000000\n",
      "2017-11-01 21:50:36,770 INFO CLAW: Solution 10 computed for time t=3000.000000\n",
      "(11, 200, 50) (200, 50) (200, 50) (200,)\n",
      "2017-11-01 21:50:36,813 INFO CLAW: Solution 0 computed for time t=0.000000\n",
      "2017-11-01 21:50:36,855 INFO CLAW: Solution 1 computed for time t=300.000000\n",
      "2017-11-01 21:50:36,892 INFO CLAW: Solution 2 computed for time t=600.000000\n",
      "2017-11-01 21:50:36,926 INFO CLAW: Solution 3 computed for time t=900.000000\n",
      "2017-11-01 21:50:36,960 INFO CLAW: Solution 4 computed for time t=1200.000000\n",
      "2017-11-01 21:50:36,997 INFO CLAW: Solution 5 computed for time t=1500.000000\n",
      "2017-11-01 21:50:37,030 INFO CLAW: Solution 6 computed for time t=1800.000000\n",
      "2017-11-01 21:50:37,066 INFO CLAW: Solution 7 computed for time t=2100.000000\n",
      "2017-11-01 21:50:37,100 INFO CLAW: Solution 8 computed for time t=2400.000000\n",
      "2017-11-01 21:50:37,138 INFO CLAW: Solution 9 computed for time t=2700.000000\n",
      "2017-11-01 21:50:37,174 INFO CLAW: Solution 10 computed for time t=3000.000000\n",
      "2017-11-01 21:50:37,212 INFO CLAW: Solution 11 computed for time t=3300.000000\n",
      "2017-11-01 21:50:37,256 INFO CLAW: Solution 12 computed for time t=3600.000000\n",
      "2017-11-01 21:50:37,296 INFO CLAW: Solution 13 computed for time t=3900.000000\n",
      "2017-11-01 21:50:37,335 INFO CLAW: Solution 14 computed for time t=4200.000000\n",
      "2017-11-01 21:50:37,370 INFO CLAW: Solution 15 computed for time t=4500.000000\n",
      "2017-11-01 21:50:37,411 INFO CLAW: Solution 16 computed for time t=4800.000000\n",
      "2017-11-01 21:50:37,449 INFO CLAW: Solution 17 computed for time t=5100.000000\n",
      "2017-11-01 21:50:37,486 INFO CLAW: Solution 18 computed for time t=5400.000000\n",
      "2017-11-01 21:50:37,521 INFO CLAW: Solution 19 computed for time t=5700.000000\n",
      "2017-11-01 21:50:37,558 INFO CLAW: Solution 20 computed for time t=6000.000000\n",
      "2017-11-01 21:50:37,593 INFO CLAW: Solution 21 computed for time t=6300.000000\n",
      "2017-11-01 21:50:37,631 INFO CLAW: Solution 22 computed for time t=6600.000000\n",
      "2017-11-01 21:50:37,666 INFO CLAW: Solution 23 computed for time t=6900.000000\n",
      "2017-11-01 21:50:37,700 INFO CLAW: Solution 24 computed for time t=7200.000000\n",
      "2017-11-01 21:50:37,736 INFO CLAW: Solution 25 computed for time t=7500.000000\n",
      "(26, 200, 50) (200, 50) (200, 50) (200,)\n",
      "2017-11-01 21:50:37,784 INFO CLAW: Solution 0 computed for time t=0.000000\n",
      "2017-11-01 21:50:37,825 INFO CLAW: Solution 1 computed for time t=300.000000\n",
      "2017-11-01 21:50:37,865 INFO CLAW: Solution 2 computed for time t=600.000000\n",
      "2017-11-01 21:50:37,906 INFO CLAW: Solution 3 computed for time t=900.000000\n",
      "2017-11-01 21:50:37,944 INFO CLAW: Solution 4 computed for time t=1200.000000\n",
      "2017-11-01 21:50:37,978 INFO CLAW: Solution 5 computed for time t=1500.000000\n",
      "2017-11-01 21:50:38,015 INFO CLAW: Solution 6 computed for time t=1800.000000\n",
      "2017-11-01 21:50:38,051 INFO CLAW: Solution 7 computed for time t=2100.000000\n",
      "2017-11-01 21:50:38,091 INFO CLAW: Solution 8 computed for time t=2400.000000\n",
      "2017-11-01 21:50:38,129 INFO CLAW: Solution 9 computed for time t=2700.000000\n",
      "2017-11-01 21:50:38,164 INFO CLAW: Solution 10 computed for time t=3000.000000\n",
      "(11, 200, 50) (200, 50) (200, 50) (200,)\n",
      "2017-11-01 21:50:38,212 INFO CLAW: Solution 0 computed for time t=0.000000\n",
      "2017-11-01 21:50:38,260 INFO CLAW: Solution 1 computed for time t=300.000000\n",
      "2017-11-01 21:50:38,305 INFO CLAW: Solution 2 computed for time t=600.000000\n",
      "2017-11-01 21:50:38,348 INFO CLAW: Solution 3 computed for time t=900.000000\n",
      "2017-11-01 21:50:38,386 INFO CLAW: Solution 4 computed for time t=1200.000000\n",
      "2017-11-01 21:50:38,421 INFO CLAW: Solution 5 computed for time t=1500.000000\n",
      "2017-11-01 21:50:38,456 INFO CLAW: Solution 6 computed for time t=1800.000000\n",
      "2017-11-01 21:50:38,498 INFO CLAW: Solution 7 computed for time t=2100.000000\n",
      "2017-11-01 21:50:38,534 INFO CLAW: Solution 8 computed for time t=2400.000000\n",
      "2017-11-01 21:50:38,571 INFO CLAW: Solution 9 computed for time t=2700.000000\n",
      "2017-11-01 21:50:38,608 INFO CLAW: Solution 10 computed for time t=3000.000000\n",
      "2017-11-01 21:50:38,647 INFO CLAW: Solution 11 computed for time t=3300.000000\n",
      "2017-11-01 21:50:38,685 INFO CLAW: Solution 12 computed for time t=3600.000000\n",
      "2017-11-01 21:50:38,721 INFO CLAW: Solution 13 computed for time t=3900.000000\n",
      "2017-11-01 21:50:38,757 INFO CLAW: Solution 14 computed for time t=4200.000000\n",
      "2017-11-01 21:50:38,798 INFO CLAW: Solution 15 computed for time t=4500.000000\n",
      "2017-11-01 21:50:38,844 INFO CLAW: Solution 16 computed for time t=4800.000000\n",
      "2017-11-01 21:50:38,883 INFO CLAW: Solution 17 computed for time t=5100.000000\n",
      "2017-11-01 21:50:38,919 INFO CLAW: Solution 18 computed for time t=5400.000000\n",
      "2017-11-01 21:50:38,958 INFO CLAW: Solution 19 computed for time t=5700.000000\n",
      "2017-11-01 21:50:38,998 INFO CLAW: Solution 20 computed for time t=6000.000000\n",
      "2017-11-01 21:50:39,041 INFO CLAW: Solution 21 computed for time t=6300.000000\n",
      "2017-11-01 21:50:39,085 INFO CLAW: Solution 22 computed for time t=6600.000000\n",
      "2017-11-01 21:50:39,133 INFO CLAW: Solution 23 computed for time t=6900.000000\n",
      "2017-11-01 21:50:39,180 INFO CLAW: Solution 24 computed for time t=7200.000000\n",
      "(25, 200, 50) (200, 50) (200, 50) (200,)\n"
     ]
    }
   ],
   "source": [
    "from nowcast.advection import advect_field\n",
    "from nowcast import hat, gaussian, min_gaussian\n",
    "\n",
    "import numpy as np\n",
    "\n",
    "MIN_VAL = 0.01\n",
    "\n",
    "ds = advect_field(10., 0., \n",
    "                  hat, dict(A=1., xbnds=[2500, 7500], ybnds=[7500, 15000]),\n",
    "                  t_out=np.arange(0, 3201, 5*60),\n",
    "                  sharp=False)\n",
    "ds = ds.where(ds > MIN_VAL)\n",
    "ds.to_netcdf(\"test_cases/hat.linear.nc\")\n",
    "\n",
    "ds = advect_field(10., 0., \n",
    "                  hat, dict(A=1., xbnds=[2500, 7500], ybnds=[7500, 15000]),\n",
    "                  t_out=np.arange(0, 7601, 5*60),\n",
    "                  sharp=False)\n",
    "ds = ds.where(ds > MIN_VAL)\n",
    "ds.to_netcdf(\"test_cases/hat.linear.long.nc\")\n",
    "\n",
    "ds = advect_field(10., 0., \n",
    "                  min_gaussian, \n",
    "                  dict(minimum=MIN_VAL, A=1., x0=10.*1000, y0=12.5*1000, \n",
    "                       sigmax=1.75*1000., sigmay=3*1000),\n",
    "                  t_out=np.arange(0, 3201, 5*60),\n",
    "                  sharp=False)\n",
    "ds = ds.where(ds > MIN_VAL)\n",
    "ds.to_netcdf(\"test_cases/blob.linear.nc\")\n",
    "\n",
    "ds = advect_field(10., 0., \n",
    "                  min_gaussian, \n",
    "                  dict(minimum=MIN_VAL, A=1., x0=10.*1000, y0=12.5*1000, \n",
    "                       sigmax=1.75*1000., sigmay=3*1000),\n",
    "                  t_out=np.arange(0, 7201, 5*60),\n",
    "                  sharp=False)\n",
    "ds = ds.where(ds > MIN_VAL)\n",
    "ds.to_netcdf(\"test_cases/blob.linear.long.nc\")"
   ]
  },
  {
   "cell_type": "markdown",
   "metadata": {
    "collapsed": true
   },
   "source": [
    "# Simple Advection Test\n",
    "\n",
    "Here we implement a simple 2D linear advection solver and evaluate its performance on our test case."
   ]
  },
  {
   "cell_type": "code",
   "execution_count": 169,
   "metadata": {},
   "outputs": [],
   "source": [
    "import numpy as np\n",
    "import xarray as xr\n",
    "\n",
    "test_ds = xr.open_dataset(\"test_cases/test_advection.nc\")\n",
    "\n",
    "q0 = test_ds.q.isel(time=0).values\n",
    "u = test_ds.u.values\n",
    "v = test_ds.v.values\n",
    "\n",
    "x = test_ds.x.values\n",
    "y = test_ds.y.values\n",
    "\n",
    "Δx = x[1] - x[0]\n",
    "Δy = y[1] - y[0]"
   ]
  },
  {
   "cell_type": "markdown",
   "metadata": {},
   "source": [
    "## 1st-order"
   ]
  },
  {
   "cell_type": "code",
   "execution_count": 194,
   "metadata": {},
   "outputs": [
    {
     "name": "stdout",
     "output_type": "stream",
     "text": [
      "1.04999070086\n",
      "50.0\n",
      "1 0.0 50.0 2.04585534374\n",
      "2 300.0 49.844961043 0.612705728318\n",
      "3 600.0 47.8877534278 0.354021072919\n",
      "4 900.0 44.0591735421 0.260556498999\n",
      "5 1200.0 39.6050239326 0.210771666818\n",
      "6 1500.0 36.6946338386 0.180769494288\n",
      "7 1800.0 34.2362185741 0.159915567586\n",
      "8 2100.0 30.9253854425 0.137583193157\n",
      "9 2400.0 27.9693360143 0.118381759635\n",
      "10 2700.0 26.1675331651 0.105235445947\n",
      "11 3000.0 24.9594206043 0.0967189196035\n",
      "12 3300.0 23.1168413308 0.0871599701113\n"
     ]
    }
   ],
   "source": [
    "v_pos_mask = v > 0\n",
    "u_pos_mask = u > 0\n",
    "\n",
    "q = q0.copy()\n",
    "yy = 16\n",
    "Δt = 300.0 / yy\n",
    "print((u.max() * Δt / Δx + v.max() * Δt / Δy))\n",
    "print(q.max())\n",
    "\n",
    "def deriv(q, u=u, v=v, Δx=Δx, Δy=Δy):\n",
    "\n",
    "    _q = q.copy()\n",
    "    \n",
    "    dq_x_neg = _q[1:-1, 1:-1] - _q[ :-2, 1:-1]\n",
    "    dq_x_pos = _q[2:,   1:-1] - _q[1:-1, 1:-1] \n",
    "    dq_y_neg = _q[1:-1, 1:-1] - _q[1:-1,  :-2]\n",
    "    dq_y_pos = _q[1:-1,   2:] - _q[1:-1, 1:-1]\n",
    "    \n",
    "    u_pos = np.maximum(u, 0)[1:-1, 1:-1]\n",
    "    u_neg = np.minimum(u, 0)[1:-1, 1:-1]\n",
    "    v_pos = np.maximum(v, 0)[1:-1, 1:-1]\n",
    "    v_neg = np.minimum(v, 0)[1:-1, 1:-1]\n",
    "    \n",
    "    dq_x = (u_pos * dq_x_neg) + (u_neg * dq_x_pos)\n",
    "    dq_y = (v_pos * dq_y_neg) + (v_neg * dq_y_pos)\n",
    "    \n",
    "    return dq_x/Δx + dq_y/Δy\n",
    "\n",
    "qs = [q, ]\n",
    "ts = [0, ]\n",
    "\n",
    "oc = 0\n",
    "for i in range(12 * yy):\n",
    "    \n",
    "    q_new = np.zeros_like(q)\n",
    "    q_int = q[1:-1, 1:-1]\n",
    "    q_new[1:-1, 1:-1] = q_int - Δt*deriv(q)\n",
    "        \n",
    "    q = q_new.copy()\n",
    "    t = i*Δt\n",
    "    \n",
    "    if (t % 300) == 0:\n",
    "        oc += 1\n",
    "        qs.append(q)\n",
    "        ts.append(t)\n",
    "        print(oc, t, q.max(), deriv(q).max())\n",
    "    \n",
    "qs = np.asarray(qs)\n",
    "ts = np.asarray(ts)"
   ]
  },
  {
   "cell_type": "code",
   "execution_count": 195,
   "metadata": {},
   "outputs": [],
   "source": [
    "ds = xr.Dataset(\n",
    "    {'q': (('time', 'x', 'y'), qs),\n",
    "     'u': (('x', 'y'), u),\n",
    "     'v': (('x', 'y'), v)},\n",
    "    {'time': ts, 'x': x, 'y': y},\n",
    ")\n",
    "ds['time'].attrs.update({'long_name': 'time', 'units': 'seconds since 2000-01-01 0:0:0'})\n",
    "ds['x'].attrs.update({'long_name': 'x-coordinate', 'units': 'm'})\n",
    "ds['y'].attrs.update({'long_name': 'y-coordinate', 'units': 'm'})\n",
    "ds['u'].attrs.update({'long_name': 'zonal wind', 'units': 'm/s'})\n",
    "ds['v'].attrs.update({'long_name': 'meridional wind', 'units': 'm/s'})\n",
    "ds.attrs.update({\n",
    "    'Conventions': 'CF-1.7'\n",
    "})\n",
    "\n",
    "ds.to_netcdf('test.o1.nc')"
   ]
  },
  {
   "cell_type": "markdown",
   "metadata": {},
   "source": [
    "## 1st-order + RK2-TVD\n",
    "\n",
    "First, take an Euler step to advanced the time to to $t^{n+1}$\n",
    "\n",
    "$$\\frac{q^{n+1} - q^n}{\\Delta t} + \\mathbf{u}^n\\cdot\\nabla q^n = 0$$\n",
    "\n",
    "Then perofrm a second Euler step to advance the solution to $t^{n+2}$\n",
    "\n",
    "$$\\frac{q^{n+2} - q^{n+1}}{\\Delta t} + \\mathbf{u}^{n+1}\\cdot\\nabla q^{n+1} = 0$$\n",
    "\n",
    "Finally, the two steps are combined:\n",
    "\n",
    "$$q^{n+1} = \\frac{q^n + q^{n+2}}{2}$$\n"
   ]
  },
  {
   "cell_type": "code",
   "execution_count": 201,
   "metadata": {},
   "outputs": [
    {
     "name": "stdout",
     "output_type": "stream",
     "text": [
      "1.04999070086\n",
      "50.0\n",
      "1 0.0 26.0600011004 1.37480999488\n",
      "1 0.0 50.0 50.0\n",
      "2 300.0 0.854872125075 0.0531001197141\n",
      "2 300.0 0.884900605307 0.695708167779\n",
      "3 600.0 0.0254965937154 0.00184774325892\n",
      "3 600.0 0.0266457358733 0.0201478001976\n",
      "4 900.0 0.00157262354621 0.000141013181021\n",
      "4 900.0 0.00160913860193 0.00158293233738\n",
      "5 1200.0 0.000862254057816 5.72359344095e-05\n",
      "5 1200.0 0.000854363133174 0.000808930620713\n",
      "6 1500.0 9.65311413078e-05 7.60113066516e-06\n",
      "6 1500.0 9.71844272621e-05 8.20356690822e-05\n",
      "7 1800.0 4.55566865241e-06 2.85237979289e-07\n",
      "7 1800.0 4.32060063409e-06 3.33477302798e-06\n",
      "8 2100.0 3.88069265636e-07 3.18666169746e-08\n",
      "8 2100.0 3.90780236256e-07 3.92095931374e-07\n",
      "9 2400.0 2.60007832453e-07 2.33813273452e-08\n",
      "9 2400.0 2.63071012655e-07 2.56155039431e-07\n",
      "10 2700.0 9.72829101955e-08 5.58514624049e-09\n",
      "10 2700.0 9.83487190435e-08 8.64214009213e-08\n",
      "11 3000.0 1.07580269858e-08 7.72320427489e-10\n",
      "11 3000.0 1.07494516719e-08 8.89316059403e-09\n",
      "12 3300.0 5.75510982409e-10 4.04055598763e-11\n",
      "12 3300.0 5.82705277318e-10 4.60001827789e-10\n"
     ]
    }
   ],
   "source": [
    "v_pos_mask = v > 0\n",
    "u_pos_mask = u > 0\n",
    "\n",
    "q = q0.copy()\n",
    "yy = 16\n",
    "Δt = 300.0 / yy\n",
    "print((u.max() * Δt / Δx + v.max() * Δt / Δy))\n",
    "print(q.max())\n",
    "\n",
    "def deriv(q, u=u, v=v, Δx=Δx, Δy=Δy):\n",
    "\n",
    "    _q = q.copy()\n",
    "    \n",
    "    dq_x_neg = _q[1:-1, 1:-1] - _q[ :-2, 1:-1]\n",
    "    dq_x_pos = _q[2:,   1:-1] - _q[1:-1, 1:-1] \n",
    "    dq_y_neg = _q[1:-1, 1:-1] - _q[1:-1,  :-2]\n",
    "    dq_y_pos = _q[1:-1,   2:] - _q[1:-1, 1:-1]\n",
    "    \n",
    "    u_pos = np.maximum(u, 0)[1:-1, 1:-1]\n",
    "    u_neg = np.minimum(u, 0)[1:-1, 1:-1]\n",
    "    v_pos = np.maximum(v, 0)[1:-1, 1:-1]\n",
    "    v_neg = np.minimum(v, 0)[1:-1, 1:-1]\n",
    "    \n",
    "    dq_x = (u_pos * dq_x_neg) + (u_neg * dq_x_pos)\n",
    "    dq_y = (v_pos * dq_y_neg) + (v_neg * dq_y_pos)\n",
    "    \n",
    "    return dq_x/Δx + dq_y/Δy\n",
    "\n",
    "qs = [q, ]\n",
    "ts = [0, ]\n",
    "\n",
    "oc = 0\n",
    "for i in range(12 * yy):\n",
    "    \n",
    "    # Step 1\n",
    "    q1 = np.zeros_like(q)\n",
    "    q1[1:-1, 1:-1] =q[1:-1, 1:-1] - Δt*deriv(q)\n",
    "    \n",
    "    # Step 2\n",
    "    q2 = np.zeros_like(q1)\n",
    "    q2[1:-1, 1:-1] = q1[1:-1, 1:-1] - Δt*deriv(q1)\n",
    "    \n",
    "    # Combo\n",
    "    q_new = (q - q2)/2.\n",
    "        \n",
    "    q = q_new.copy()\n",
    "    t = i*Δt\n",
    "    \n",
    "    if (t % 300) == 0:\n",
    "        oc += 1\n",
    "        qs.append(q)\n",
    "        ts.append(t)\n",
    "        print(oc, t, q.max(), deriv(q).max())\n",
    "        print(oc, t, q1.max(), q2.max())\n",
    "\n",
    "qs = np.asarray(qs)\n",
    "ts = np.asarray(ts)"
   ]
  },
  {
   "cell_type": "code",
   "execution_count": 199,
   "metadata": {
    "collapsed": true
   },
   "outputs": [],
   "source": [
    "ds = xr.Dataset(\n",
    "    {'q': (('time', 'x', 'y'), qs),\n",
    "     'u': (('x', 'y'), u),\n",
    "     'v': (('x', 'y'), v)},\n",
    "    {'time': ts, 'x': x, 'y': y},\n",
    ")\n",
    "ds['time'].attrs.update({'long_name': 'time', 'units': 'seconds since 2000-01-01 0:0:0'})\n",
    "ds['x'].attrs.update({'long_name': 'x-coordinate', 'units': 'm'})\n",
    "ds['y'].attrs.update({'long_name': 'y-coordinate', 'units': 'm'})\n",
    "ds['u'].attrs.update({'long_name': 'zonal wind', 'units': 'm/s'})\n",
    "ds['v'].attrs.update({'long_name': 'meridional wind', 'units': 'm/s'})\n",
    "ds.attrs.update({\n",
    "    'Conventions': 'CF-1.7'\n",
    "})\n",
    "\n",
    "ds.to_netcdf('test.o1.rk2.nc')"
   ]
  },
  {
   "cell_type": "markdown",
   "metadata": {},
   "source": [
    "## 2nd-order"
   ]
  },
  {
   "cell_type": "code",
   "execution_count": 179,
   "metadata": {},
   "outputs": [
    {
     "name": "stdout",
     "output_type": "stream",
     "text": [
      "0.0839992560685\n",
      "50.0\n",
      "0.0 52.0504085802 3000.0 0.0\n",
      "300.0 64.6192670709 547.94120186 34.3276968303\n",
      "600.0 62.2246341972 475.014867742 176.175321591\n",
      "900.0 59.9542849723 405.097348267 202.996125888\n",
      "1200.0 59.5617937799 327.262191882 139.144431494\n",
      "1500.0 58.9944885683 300.282523342 40.1439514293\n",
      "1800.0 57.2447456292 283.780259085 1.12057572131\n",
      "2100.0 55.5128379988 275.806859088 0.88332201146\n",
      "2400.0 55.2726545258 263.765984923 5.77054331202\n",
      "2700.0 54.716727551 284.767728952 28.0705490827\n",
      "3000.0 53.6371264103 291.897362603 83.5067068662\n",
      "3300.0 53.0294926217 292.253906733 122.483966461\n",
      "3600.0 52.6457052397 298.261882518 99.1494039907\n"
     ]
    }
   ],
   "source": [
    "v_pos_mask = v > 0\n",
    "u_pos_mask = u > 0\n",
    "\n",
    "q = q0.copy()\n",
    "yy = 200\n",
    "Δt = 300.0 / yy\n",
    "print((u.max() * Δt / Δx + v.max() * Δt / Δy))\n",
    "print(q.max())\n",
    "\n",
    "qs = []\n",
    "ts = []\n",
    "\n",
    "for i in range(12 * yy + 1):\n",
    "    q_int = q[2:-2, 2:-2]\n",
    "\n",
    "    u_pos = np.maximum(u, 0)[2:-2, 2:-2]\n",
    "    u_neg = np.minimum(u, 0)[2:-2, 2:-2]\n",
    "    v_pos = np.maximum(v, 0)[2:-2, 2:-2]\n",
    "    v_neg = np.minimum(v, 0)[2:-2, 2:-2]\n",
    "\n",
    "    dq_x_neg =  3.*q[2:-2, 2:-2] - 4.*q[1:-3, 2:-2] +    q[ :-4, 2:-2]\n",
    "    dq_x_pos = -1.*q[4:,   2:-2] + 4.*q[3:-1, 2:-2] - 3.*q[2:-2, 2:-2] \n",
    "    dq_y_neg =  3.*q[2:-2, 2:-2] - 4.*q[2:-2, 1:-3] +    q[2:-2,  :-4]\n",
    "    dq_y_pos = -1.*q[2:-2, 4:  ] + 4.*q[2:-2, 3:-1] - 3.*q[2:-2, 2:-2]\n",
    "    \n",
    "    q_new = np.zeros_like(q)\n",
    "    dq_x = (u_pos * dq_x_neg) + (u_neg * dq_x_pos)\n",
    "    dq_y = (v_pos * dq_y_neg) + (v_neg * dq_y_pos)\n",
    "    q_new[2:-2, 2:-2] = q_int - Δt*(dq_x/Δx/2 + dq_y/Δy/2)\n",
    "    \n",
    "\n",
    "    q = q_new.copy()\n",
    "    t = i*Δt\n",
    "    \n",
    "    if (t % 300) == 0:\n",
    "        qs.append(q)\n",
    "        ts.append(t)\n",
    "        print(t, q.max(), (u_pos*dq_x_neg).max(), (v_pos*dq_y_neg).max())\n",
    "    \n",
    "qs = np.asarray(qs)\n",
    "ts = np.asarray(ts)"
   ]
  },
  {
   "cell_type": "code",
   "execution_count": 159,
   "metadata": {
    "collapsed": true
   },
   "outputs": [],
   "source": [
    "ds = xr.Dataset(\n",
    "    {'q': (('time', 'x', 'y'), qs),\n",
    "     'u': (('x', 'y'), u),\n",
    "     'v': (('x', 'y'), v)},\n",
    "    {'time': ts, 'x': x, 'y': y},\n",
    ")\n",
    "ds['time'].attrs.update({'long_name': 'time', 'units': 'seconds since 2000-01-01 0:0:0'})\n",
    "ds['x'].attrs.update({'long_name': 'x-coordinate', 'units': 'm'})\n",
    "ds['y'].attrs.update({'long_name': 'y-coordinate', 'units': 'm'})\n",
    "ds['u'].attrs.update({'long_name': 'zonal wind', 'units': 'm/s'})\n",
    "ds['v'].attrs.update({'long_name': 'meridional wind', 'units': 'm/s'})\n",
    "ds.attrs.update({\n",
    "    'Conventions': 'CF-1.7'\n",
    "})\n",
    "\n",
    "ds.to_netcdf('test.o2.nc')"
   ]
  }
 ],
 "metadata": {
  "kernelspec": {
   "display_name": "Python 3",
   "language": "python",
   "name": "python3"
  },
  "language_info": {
   "codemirror_mode": {
    "name": "ipython",
    "version": 3
   },
   "file_extension": ".py",
   "mimetype": "text/x-python",
   "name": "python",
   "nbconvert_exporter": "python",
   "pygments_lexer": "ipython3",
   "version": "3.6.1"
  },
  "toc": {
   "colors": {
    "hover_highlight": "#DAA520",
    "navigate_num": "#000000",
    "navigate_text": "#333333",
    "running_highlight": "#FF0000",
    "selected_highlight": "#FFD700",
    "sidebar_border": "#EEEEEE",
    "wrapper_background": "#FFFFFF"
   },
   "moveMenuLeft": true,
   "nav_menu": {
    "height": "11px",
    "width": "252px"
   },
   "navigate_menu": true,
   "number_sections": true,
   "sideBar": true,
   "skip_h1_title": false,
   "threshold": 4,
   "toc_cell": false,
   "toc_position": {
    "height": "637px",
    "left": "0px",
    "right": "663.559px",
    "top": "107px",
    "width": "212px"
   },
   "toc_section_display": "block",
   "toc_window_display": true,
   "widenNotebook": false
  }
 },
 "nbformat": 4,
 "nbformat_minor": 2
}
